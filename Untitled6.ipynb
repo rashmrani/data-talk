{
  "nbformat": 4,
  "nbformat_minor": 0,
  "metadata": {
    "colab": {
      "provenance": []
    },
    "kernelspec": {
      "name": "python3",
      "display_name": "Python 3"
    },
    "language_info": {
      "name": "python"
    }
  },
  "cells": [
    {
      "cell_type": "code",
      "execution_count": null,
      "metadata": {
        "id": "4FXFO9Igxoah"
      },
      "outputs": [],
      "source": []
    },
    {
      "cell_type": "markdown",
      "source": [
        "1.Reseving string is a string means rearranging the characters such that the last character becomes the first,the second -to-last character becomes the second,and so on."
      ],
      "metadata": {
        "id": "0i5LQQgw5P97"
      }
    },
    {
      "cell_type": "code",
      "source": [],
      "metadata": {
        "id": "NQCLGWnT6xSE"
      },
      "execution_count": null,
      "outputs": []
    },
    {
      "cell_type": "markdown",
      "source": [
        "2.Creat a set of views using set() and initialize a count variable.the alphabats in the string\n",
        "\n",
        "(a,e,i,o,u)"
      ],
      "metadata": {
        "id": "Ffd2SvGq6yZA"
      }
    },
    {
      "cell_type": "code",
      "source": [],
      "metadata": {
        "id": "iPl5mwKK7hh9"
      },
      "execution_count": null,
      "outputs": []
    },
    {
      "cell_type": "markdown",
      "source": [
        "3.if the reverse of the string is the same as the string.\n",
        "\n",
        "(string==string[::-1]):\n",
        "\n",
        "\"the string is a palindrome.\"\n"
      ],
      "metadata": {
        "id": "tHlRxbEV7iXv"
      }
    },
    {
      "cell_type": "code",
      "source": [],
      "metadata": {
        "id": "dhVFfrO28TEE"
      },
      "execution_count": null,
      "outputs": []
    },
    {
      "cell_type": "markdown",
      "source": [
        "4.(counter(str1)==counter(str2))\n",
        "output \"the string are anagram\"\n"
      ],
      "metadata": {
        "id": "Ix7uqQ4T8Tlq"
      }
    },
    {
      "cell_type": "code",
      "source": [],
      "metadata": {
        "id": "D__PKPs09X0V"
      },
      "execution_count": null,
      "outputs": []
    },
    {
      "cell_type": "markdown",
      "source": [
        "5.s=\"GeeksforGeeks is best for Geeks\",f=\"geeks\"\n",
        "[0, 8, 26]\n",
        "\n",
        "the start indices of thesubstring are :[0 , 8, 26]"
      ],
      "metadata": {
        "id": "DtRO3SQW9Y3b"
      }
    },
    {
      "cell_type": "code",
      "source": [],
      "metadata": {
        "id": "bk95zqrL-4qA"
      },
      "execution_count": null,
      "outputs": []
    },
    {
      "cell_type": "markdown",
      "source": [
        "6.A compression mechanism can arbitrarily delet X(X^=0)character and replace them with the deleted character count(X)"
      ],
      "metadata": {
        "id": "aL2HpuK--6jQ"
      }
    },
    {
      "cell_type": "code",
      "source": [],
      "metadata": {
        "id": "WOPDV2lyAI3c"
      },
      "execution_count": null,
      "outputs": []
    },
    {
      "cell_type": "markdown",
      "source": [
        "7.Implement an algorithm to determine if a string contains all unique characters.\n",
        "s=\"abcd\"\n",
        "\n",
        "true\n",
        "\n",
        "s=\"abbd\"\n",
        "\n",
        "false"
      ],
      "metadata": {
        "id": "2GiaZGPuAJVn"
      }
    },
    {
      "cell_type": "code",
      "source": [],
      "metadata": {
        "id": "PYNzGi_vA0f7"
      },
      "execution_count": null,
      "outputs": []
    },
    {
      "cell_type": "markdown",
      "source": [
        "8.string convert the characers of the string into the opposite case that if a character is the lower case then convert it into upper case and vice-versa.\n",
        "\n",
        "hello every one\n",
        "\n",
        "print HELLO EVERY ONE"
      ],
      "metadata": {
        "id": "DeMIbCA0A1Bh"
      }
    },
    {
      "cell_type": "code",
      "source": [],
      "metadata": {
        "id": "sIipqfymBvVb"
      },
      "execution_count": null,
      "outputs": []
    },
    {
      "cell_type": "markdown",
      "source": [
        "9.The idea is to maintain two states: IN and OUT .the states OUT indicates that a separator is seen.state IN indicates that a word character is seen.we increment word count when previous state is OUT and next charater is a word character."
      ],
      "metadata": {
        "id": "o0Te9-BzBwEC"
      }
    },
    {
      "cell_type": "code",
      "source": [],
      "metadata": {
        "id": "7zUWb14pC9ZR"
      },
      "execution_count": null,
      "outputs": []
    },
    {
      "cell_type": "markdown",
      "source": [
        "10.str1=\"Hello\"\n",
        "\n",
        "   str2=\"Geek\"\n",
        "\n",
        "   print concatenated string\n",
        "\n",
        "   Hello,Geek"
      ],
      "metadata": {
        "id": "v2EA8fG5C-LI"
      }
    },
    {
      "cell_type": "code",
      "source": [],
      "metadata": {
        "id": "JFheC_vCEBei"
      },
      "execution_count": null,
      "outputs": []
    },
    {
      "cell_type": "markdown",
      "source": [
        "11.the task is to perform the operation of removig all the occurrences of a given item/element present in a list.\n",
        "\n",
        "input: 1 1 2 3 4 5 1 2 1\n",
        "output:2 3 4 5 2"
      ],
      "metadata": {
        "id": "7NIo0uVFEPK6"
      }
    },
    {
      "cell_type": "code",
      "source": [],
      "metadata": {
        "id": "eoSmNq_5Eont"
      },
      "execution_count": null,
      "outputs": []
    }
  ]
}